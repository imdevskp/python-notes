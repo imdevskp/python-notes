{
 "cells": [
  {
   "cell_type": "code",
   "execution_count": null,
   "metadata": {},
   "outputs": [],
   "source": [
    "# Open python interpreter/ipython and do the following.\n",
    "\n",
    "# 0.import pandas \n",
    "# 1.Using the emp.csv file available in common folder,create a data frame object named ef1.\n",
    "# 2.Remove all the non digit characters from ephno column and store the new data in ef2. \n",
    "# 3.Write the three columns ename,edesig and esalary to the excel file empx.xlsx with sheet name as salary\n",
    "# 4.Write the two columns ename and  ephno to the same excel file empx.xlsx with sheet name as phone  \n",
    "# 5.In the data frame ef2 make edesig and eno as row index & store the new data in ef3\n",
    "# 6.In ef3, sort the index edesig and store the result in ef4  \n",
    "#     6.1.Using ef4, display all the scientists records.\n",
    "#     6.2.Display average salary of engineers.\n",
    "#     6.3.Display the lowest salary for scientist designation."
   ]
  },
  {
   "cell_type": "code",
   "execution_count": 1,
   "metadata": {},
   "outputs": [],
   "source": [
    "# 0 import pandas \n",
    "\n",
    "import pandas as pd\n",
    "import numpy as np"
   ]
  },
  {
   "cell_type": "code",
   "execution_count": 16,
   "metadata": {},
   "outputs": [
    {
     "data": {
      "text/html": [
       "<div>\n",
       "<style scoped>\n",
       "    .dataframe tbody tr th:only-of-type {\n",
       "        vertical-align: middle;\n",
       "    }\n",
       "\n",
       "    .dataframe tbody tr th {\n",
       "        vertical-align: top;\n",
       "    }\n",
       "\n",
       "    .dataframe thead th {\n",
       "        text-align: right;\n",
       "    }\n",
       "</style>\n",
       "<table border=\"1\" class=\"dataframe\">\n",
       "  <thead>\n",
       "    <tr style=\"text-align: right;\">\n",
       "      <th></th>\n",
       "      <th>ename</th>\n",
       "      <th>eno</th>\n",
       "      <th>edesig</th>\n",
       "      <th>esalary</th>\n",
       "      <th>ephno</th>\n",
       "    </tr>\n",
       "  </thead>\n",
       "  <tbody>\n",
       "    <tr>\n",
       "      <th>0</th>\n",
       "      <td>K.Raj</td>\n",
       "      <td>101</td>\n",
       "      <td>scientist</td>\n",
       "      <td>50000.0</td>\n",
       "      <td>(0493)-2287278</td>\n",
       "    </tr>\n",
       "    <tr>\n",
       "      <th>1</th>\n",
       "      <td>Mohan Raj M.</td>\n",
       "      <td>102</td>\n",
       "      <td>engineer</td>\n",
       "      <td>50000.0</td>\n",
       "      <td>[0496]-2287278</td>\n",
       "    </tr>\n",
       "    <tr>\n",
       "      <th>2</th>\n",
       "      <td>M.Ram</td>\n",
       "      <td>104</td>\n",
       "      <td>scientist</td>\n",
       "      <td>80000.0</td>\n",
       "      <td>(0491)-4287275</td>\n",
       "    </tr>\n",
       "    <tr>\n",
       "      <th>3</th>\n",
       "      <td>Ram Kumar</td>\n",
       "      <td>104</td>\n",
       "      <td>scientist</td>\n",
       "      <td>60000.0</td>\n",
       "      <td>(0491)-4287335</td>\n",
       "    </tr>\n",
       "    <tr>\n",
       "      <th>4</th>\n",
       "      <td>Mohan Babu K.K.</td>\n",
       "      <td>106</td>\n",
       "      <td>officer</td>\n",
       "      <td>50000.0</td>\n",
       "      <td>{0496}-2387278</td>\n",
       "    </tr>\n",
       "  </tbody>\n",
       "</table>\n",
       "</div>"
      ],
      "text/plain": [
       "             ename  eno     edesig  esalary           ephno\n",
       "0            K.Raj  101  scientist  50000.0  (0493)-2287278\n",
       "1     Mohan Raj M.  102   engineer  50000.0  [0496]-2287278\n",
       "2            M.Ram  104  scientist  80000.0  (0491)-4287275\n",
       "3        Ram Kumar  104  scientist  60000.0  (0491)-4287335\n",
       "4  Mohan Babu K.K.  106    officer  50000.0  {0496}-2387278"
      ]
     },
     "execution_count": 16,
     "metadata": {},
     "output_type": "execute_result"
    }
   ],
   "source": [
    "# 1. Using the emp.csv file available in common folder,create a data frame object named ef1.\n",
    "\n",
    "ef1 = pd.read_csv('emp.csv')\n",
    "ef1.head()"
   ]
  },
  {
   "cell_type": "code",
   "execution_count": 35,
   "metadata": {},
   "outputs": [
    {
     "data": {
      "text/html": [
       "<div>\n",
       "<style scoped>\n",
       "    .dataframe tbody tr th:only-of-type {\n",
       "        vertical-align: middle;\n",
       "    }\n",
       "\n",
       "    .dataframe tbody tr th {\n",
       "        vertical-align: top;\n",
       "    }\n",
       "\n",
       "    .dataframe thead th {\n",
       "        text-align: right;\n",
       "    }\n",
       "</style>\n",
       "<table border=\"1\" class=\"dataframe\">\n",
       "  <thead>\n",
       "    <tr style=\"text-align: right;\">\n",
       "      <th></th>\n",
       "      <th>ename</th>\n",
       "      <th>eno</th>\n",
       "      <th>edesig</th>\n",
       "      <th>esalary</th>\n",
       "      <th>ephno</th>\n",
       "    </tr>\n",
       "  </thead>\n",
       "  <tbody>\n",
       "    <tr>\n",
       "      <th>0</th>\n",
       "      <td>K.Raj</td>\n",
       "      <td>101</td>\n",
       "      <td>scientist</td>\n",
       "      <td>50000.0</td>\n",
       "      <td>04932287278</td>\n",
       "    </tr>\n",
       "    <tr>\n",
       "      <th>1</th>\n",
       "      <td>Mohan Raj M.</td>\n",
       "      <td>102</td>\n",
       "      <td>engineer</td>\n",
       "      <td>50000.0</td>\n",
       "      <td>04962287278</td>\n",
       "    </tr>\n",
       "    <tr>\n",
       "      <th>2</th>\n",
       "      <td>M.Ram</td>\n",
       "      <td>104</td>\n",
       "      <td>scientist</td>\n",
       "      <td>80000.0</td>\n",
       "      <td>04914287275</td>\n",
       "    </tr>\n",
       "    <tr>\n",
       "      <th>3</th>\n",
       "      <td>Ram Kumar</td>\n",
       "      <td>104</td>\n",
       "      <td>scientist</td>\n",
       "      <td>60000.0</td>\n",
       "      <td>04914287335</td>\n",
       "    </tr>\n",
       "    <tr>\n",
       "      <th>4</th>\n",
       "      <td>Mohan Babu K.K.</td>\n",
       "      <td>106</td>\n",
       "      <td>officer</td>\n",
       "      <td>50000.0</td>\n",
       "      <td>04962387278</td>\n",
       "    </tr>\n",
       "  </tbody>\n",
       "</table>\n",
       "</div>"
      ],
      "text/plain": [
       "             ename  eno     edesig  esalary        ephno\n",
       "0            K.Raj  101  scientist  50000.0  04932287278\n",
       "1     Mohan Raj M.  102   engineer  50000.0  04962287278\n",
       "2            M.Ram  104  scientist  80000.0  04914287275\n",
       "3        Ram Kumar  104  scientist  60000.0  04914287335\n",
       "4  Mohan Babu K.K.  106    officer  50000.0  04962387278"
      ]
     },
     "execution_count": 35,
     "metadata": {},
     "output_type": "execute_result"
    }
   ],
   "source": [
    "# 2. Remove all the non digit characters from ephno column and store the new data in ef2. \n",
    "\n",
    "ef2 = ef1.copy()\n",
    "ef2['ephno'] = ef2['ephno'].str.replace('\\D', '')\n",
    "ef2.head()"
   ]
  },
  {
   "cell_type": "code",
   "execution_count": 23,
   "metadata": {},
   "outputs": [],
   "source": [
    "# 3. Write the three columns ename,edesig and esalary to the excel file empx.xlsx with sheet name as salary\n",
    "\n",
    "ef1[['ename', 'edesig', 'esalary']].to_excel('empx.xlsx', sheet_name='salary')"
   ]
  },
  {
   "cell_type": "code",
   "execution_count": 25,
   "metadata": {},
   "outputs": [
    {
     "name": "stdout",
     "output_type": "stream",
     "text": [
      "total 24\r\n",
      "-rw-rw-r-- 1 ai17 ai17 5697 Dec 13 16:57 day_27.ipynb\r\n",
      "-rwxr--r-- 1 ai17 ai17  492 Nov 27  2018 emp.csv\r\n",
      "-rw-rw-r-- 1 ai17 ai17 5739 Dec 13 16:58 empx.xlsx\r\n",
      "-rwxr--r-- 1 ai17 ai17  785 Dec 13 13:54 Python Lab_Day27_12Dec.txt\r\n"
     ]
    }
   ],
   "source": [
    "! ls -l"
   ]
  },
  {
   "cell_type": "code",
   "execution_count": 29,
   "metadata": {},
   "outputs": [],
   "source": [
    "# 4. Write the two columns ename and  ephno to the same excel file empx.xlsx with sheet name as phone  \n",
    "\n",
    "with pd.ExcelWriter('empx.xlsx') as writer:\n",
    "    ef1[['ename', 'ephno']].to_excel(writer, sheet_name='phone')"
   ]
  },
  {
   "cell_type": "code",
   "execution_count": 38,
   "metadata": {},
   "outputs": [
    {
     "data": {
      "text/html": [
       "<div>\n",
       "<style scoped>\n",
       "    .dataframe tbody tr th:only-of-type {\n",
       "        vertical-align: middle;\n",
       "    }\n",
       "\n",
       "    .dataframe tbody tr th {\n",
       "        vertical-align: top;\n",
       "    }\n",
       "\n",
       "    .dataframe thead th {\n",
       "        text-align: right;\n",
       "    }\n",
       "</style>\n",
       "<table border=\"1\" class=\"dataframe\">\n",
       "  <thead>\n",
       "    <tr style=\"text-align: right;\">\n",
       "      <th></th>\n",
       "      <th>ename</th>\n",
       "      <th>edesig</th>\n",
       "      <th>esalary</th>\n",
       "      <th>ephno</th>\n",
       "    </tr>\n",
       "    <tr>\n",
       "      <th>eno</th>\n",
       "      <th></th>\n",
       "      <th></th>\n",
       "      <th></th>\n",
       "      <th></th>\n",
       "    </tr>\n",
       "  </thead>\n",
       "  <tbody>\n",
       "    <tr>\n",
       "      <th>101</th>\n",
       "      <td>K.Raj</td>\n",
       "      <td>scientist</td>\n",
       "      <td>50000.0</td>\n",
       "      <td>04932287278</td>\n",
       "    </tr>\n",
       "    <tr>\n",
       "      <th>102</th>\n",
       "      <td>Mohan Raj M.</td>\n",
       "      <td>engineer</td>\n",
       "      <td>50000.0</td>\n",
       "      <td>04962287278</td>\n",
       "    </tr>\n",
       "    <tr>\n",
       "      <th>104</th>\n",
       "      <td>M.Ram</td>\n",
       "      <td>scientist</td>\n",
       "      <td>80000.0</td>\n",
       "      <td>04914287275</td>\n",
       "    </tr>\n",
       "    <tr>\n",
       "      <th>104</th>\n",
       "      <td>Ram Kumar</td>\n",
       "      <td>scientist</td>\n",
       "      <td>60000.0</td>\n",
       "      <td>04914287335</td>\n",
       "    </tr>\n",
       "    <tr>\n",
       "      <th>106</th>\n",
       "      <td>Mohan Babu K.K.</td>\n",
       "      <td>officer</td>\n",
       "      <td>50000.0</td>\n",
       "      <td>04962387278</td>\n",
       "    </tr>\n",
       "  </tbody>\n",
       "</table>\n",
       "</div>"
      ],
      "text/plain": [
       "               ename     edesig  esalary        ephno\n",
       "eno                                                  \n",
       "101            K.Raj  scientist  50000.0  04932287278\n",
       "102     Mohan Raj M.   engineer  50000.0  04962287278\n",
       "104            M.Ram  scientist  80000.0  04914287275\n",
       "104        Ram Kumar  scientist  60000.0  04914287335\n",
       "106  Mohan Babu K.K.    officer  50000.0  04962387278"
      ]
     },
     "execution_count": 38,
     "metadata": {},
     "output_type": "execute_result"
    }
   ],
   "source": [
    "# 5. In the data frame ef2 make edesig and eno as row index & store the new data in ef3\n",
    "\n",
    "ef3 = ef2.set_index('eno')\n",
    "ef3.head()\n",
    "# or ef2.index = ef2.eno"
   ]
  },
  {
   "cell_type": "code",
   "execution_count": 43,
   "metadata": {},
   "outputs": [
    {
     "name": "stdout",
     "output_type": "stream",
     "text": [
      "               ename     edesig  esalary        ephno\n",
      "eno                                                  \n",
      "101            K.Raj  scientist  50000.0  04932287278\n",
      "102     Mohan Raj M.   engineer  50000.0  04962287278\n",
      "104            M.Ram  scientist  80000.0  04914287275\n",
      "104        Ram Kumar  scientist  60000.0  04914287335\n",
      "106  Mohan Babu K.K.    officer  50000.0  04962387278\n",
      "107          K.Gopal  scientist  50000.0  04932287278\n",
      "108      Anil Raj M.   engineer  50000.0  04962287278\n",
      "201         Amala P.  scientist  70000.0  04989287275\n",
      "204             Uma     officer  60000.0  04914287335\n",
      "206             Suma   engineer  50000.0  04962387278\n",
      "         ename     edesig  esalary        ephno\n",
      "eno                                            \n",
      "101      K.Raj  scientist  50000.0  04932287278\n",
      "104      M.Ram  scientist  80000.0  04914287275\n",
      "104  Ram Kumar  scientist  60000.0  04914287335\n",
      "107    K.Gopal  scientist  50000.0  04932287278\n",
      "201   Amala P.  scientist  70000.0  04989287275\n",
      "50000.0\n",
      "50000.0\n"
     ]
    }
   ],
   "source": [
    "# 6. In ef3, sort the index edesig and store the result in ef4  \n",
    "\n",
    "ef4 = ef3.sort_index()\n",
    "print(ef4)"
   ]
  },
  {
   "cell_type": "code",
   "execution_count": 46,
   "metadata": {},
   "outputs": [
    {
     "name": "stdout",
     "output_type": "stream",
     "text": [
      "         ename     edesig  esalary        ephno\n",
      "eno                                            \n",
      "101      K.Raj  scientist  50000.0  04932287278\n",
      "104      M.Ram  scientist  80000.0  04914287275\n",
      "104  Ram Kumar  scientist  60000.0  04914287335\n",
      "107    K.Gopal  scientist  50000.0  04932287278\n",
      "201   Amala P.  scientist  70000.0  04989287275\n"
     ]
    }
   ],
   "source": [
    "# 6.1.Using ef4, display all the scientists records.\n",
    "\n",
    "print(ef4[ef4['edesig']=='scientist'])"
   ]
  },
  {
   "cell_type": "code",
   "execution_count": 45,
   "metadata": {},
   "outputs": [
    {
     "name": "stdout",
     "output_type": "stream",
     "text": [
      "50000.0\n"
     ]
    }
   ],
   "source": [
    "# 6.2.Display average salary of engineers.\n",
    "\n",
    "print(ef4[ef4['edesig']=='engineer']['esalary'].mean())"
   ]
  },
  {
   "cell_type": "code",
   "execution_count": 48,
   "metadata": {},
   "outputs": [
    {
     "name": "stdout",
     "output_type": "stream",
     "text": [
      "50000.0\n"
     ]
    }
   ],
   "source": [
    "# 6.3.Display the lowest salary for scientist designation.\n",
    "\n",
    "print(ef4[ef4['edesig']=='scientist']['esalary'].min())"
   ]
  },
  {
   "cell_type": "code",
   "execution_count": null,
   "metadata": {},
   "outputs": [],
   "source": []
  }
 ],
 "metadata": {
  "kernelspec": {
   "display_name": "Python 2",
   "language": "python",
   "name": "python2"
  },
  "language_info": {
   "codemirror_mode": {
    "name": "ipython",
    "version": 2
   },
   "file_extension": ".py",
   "mimetype": "text/x-python",
   "name": "python",
   "nbconvert_exporter": "python",
   "pygments_lexer": "ipython2",
   "version": "2.7.15"
  }
 },
 "nbformat": 4,
 "nbformat_minor": 2
}
